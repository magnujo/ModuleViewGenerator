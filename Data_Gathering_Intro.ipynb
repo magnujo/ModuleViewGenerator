{
  "nbformat": 4,
  "nbformat_minor": 0,
  "metadata": {
    "anaconda-cloud": {},
    "kernelspec": {
      "display_name": "Python 3",
      "language": "python",
      "name": "python3"
    },
    "language_info": {
      "codemirror_mode": {
        "name": "ipython",
        "version": 3
      },
      "file_extension": ".py",
      "mimetype": "text/x-python",
      "name": "python",
      "nbconvert_exporter": "python",
      "pygments_lexer": "ipython3",
      "version": "3.9.2"
    },
    "colab": {
      "name": "Data_Gathering_Intro.ipynb",
      "provenance": [],
      "collapsed_sections": []
    }
  },
  "cells": [
    {
      "cell_type": "markdown",
      "metadata": {
        "id": "S4vjaT2cKoSI"
      },
      "source": [
        "# Data Gathering Intro"
      ]
    },
    {
      "cell_type": "code",
      "metadata": {
        "colab": {
          "base_uri": "https://localhost:8080/"
        },
        "id": "uZIelg5dKoSN",
        "outputId": "78c2ca3b-52fb-46f2-bea4-3e82e31413ee"
      },
      "source": [
        "import sys\n",
        "!{sys.executable} -m pip install gitpython"
      ],
      "execution_count": 8,
      "outputs": [
        {
          "output_type": "stream",
          "text": [
            "Requirement already satisfied: gitpython in /usr/local/lib/python3.7/dist-packages (3.1.14)\n",
            "Requirement already satisfied: gitdb<5,>=4.0.1 in /usr/local/lib/python3.7/dist-packages (from gitpython) (4.0.7)\n",
            "Requirement already satisfied: smmap<5,>=3.0.1 in /usr/local/lib/python3.7/dist-packages (from gitdb<5,>=4.0.1->gitpython) (4.0.0)\n"
          ],
          "name": "stdout"
        }
      ]
    },
    {
      "cell_type": "code",
      "metadata": {
        "id": "pHzl7KbgKoSP"
      },
      "source": [
        "ZEEGUU_API_FOLDER=\"/Users/mircea/Zeeguu-API\"\n"
      ],
      "execution_count": 9,
      "outputs": []
    },
    {
      "cell_type": "code",
      "metadata": {
        "id": "E85hWBV6L_J2"
      },
      "source": [
        "ZEEGUU_CORE_FOLDER=\"/Users/mircea/Zeeguu-Core\""
      ],
      "execution_count": 11,
      "outputs": []
    },
    {
      "cell_type": "code",
      "metadata": {
        "colab": {
          "base_uri": "https://localhost:8080/",
          "height": 740
        },
        "id": "gGfz_Es7KoSP",
        "outputId": "4b9ebeda-4044-4f31-8950-f13c0c5ee690"
      },
      "source": [
        "from git import Repo\n",
        "\n",
        "Repo.clone_from(\"https://github.com/zeeguu-ecosystem/Zeeguu-api\",ZEEGUU_API_FOLDER )\n"
      ],
      "execution_count": 10,
      "outputs": [
        {
          "output_type": "error",
          "ename": "GitCommandError",
          "evalue": "ignored",
          "traceback": [
            "\u001b[0;31m---------------------------------------------------------------------------\u001b[0m",
            "\u001b[0;31mGitCommandError\u001b[0m                           Traceback (most recent call last)",
            "\u001b[0;32m<ipython-input-10-4d0787f9923b>\u001b[0m in \u001b[0;36m<module>\u001b[0;34m()\u001b[0m\n\u001b[1;32m      1\u001b[0m \u001b[0;32mfrom\u001b[0m \u001b[0mgit\u001b[0m \u001b[0;32mimport\u001b[0m \u001b[0mRepo\u001b[0m\u001b[0;34m\u001b[0m\u001b[0;34m\u001b[0m\u001b[0m\n\u001b[1;32m      2\u001b[0m \u001b[0;34m\u001b[0m\u001b[0m\n\u001b[0;32m----> 3\u001b[0;31m \u001b[0mRepo\u001b[0m\u001b[0;34m.\u001b[0m\u001b[0mclone_from\u001b[0m\u001b[0;34m(\u001b[0m\u001b[0;34m\"https://github.com/zeeguu-ecosystem/Zeeguu-api\"\u001b[0m\u001b[0;34m,\u001b[0m\u001b[0mZEEGUU_API_FOLDER\u001b[0m \u001b[0;34m)\u001b[0m\u001b[0;34m\u001b[0m\u001b[0;34m\u001b[0m\u001b[0m\n\u001b[0m",
            "\u001b[0;32m/usr/local/lib/python3.7/dist-packages/git/repo/base.py\u001b[0m in \u001b[0;36mclone_from\u001b[0;34m(cls, url, to_path, progress, env, multi_options, **kwargs)\u001b[0m\n\u001b[1;32m   1030\u001b[0m         \u001b[0;32mif\u001b[0m \u001b[0menv\u001b[0m \u001b[0;32mis\u001b[0m \u001b[0;32mnot\u001b[0m \u001b[0;32mNone\u001b[0m\u001b[0;34m:\u001b[0m\u001b[0;34m\u001b[0m\u001b[0;34m\u001b[0m\u001b[0m\n\u001b[1;32m   1031\u001b[0m             \u001b[0mgit\u001b[0m\u001b[0;34m.\u001b[0m\u001b[0mupdate_environment\u001b[0m\u001b[0;34m(\u001b[0m\u001b[0;34m**\u001b[0m\u001b[0menv\u001b[0m\u001b[0;34m)\u001b[0m\u001b[0;34m\u001b[0m\u001b[0;34m\u001b[0m\u001b[0m\n\u001b[0;32m-> 1032\u001b[0;31m         \u001b[0;32mreturn\u001b[0m \u001b[0mcls\u001b[0m\u001b[0;34m.\u001b[0m\u001b[0m_clone\u001b[0m\u001b[0;34m(\u001b[0m\u001b[0mgit\u001b[0m\u001b[0;34m,\u001b[0m \u001b[0murl\u001b[0m\u001b[0;34m,\u001b[0m \u001b[0mto_path\u001b[0m\u001b[0;34m,\u001b[0m \u001b[0mGitCmdObjectDB\u001b[0m\u001b[0;34m,\u001b[0m \u001b[0mprogress\u001b[0m\u001b[0;34m,\u001b[0m \u001b[0mmulti_options\u001b[0m\u001b[0;34m,\u001b[0m \u001b[0;34m**\u001b[0m\u001b[0mkwargs\u001b[0m\u001b[0;34m)\u001b[0m\u001b[0;34m\u001b[0m\u001b[0;34m\u001b[0m\u001b[0m\n\u001b[0m\u001b[1;32m   1033\u001b[0m \u001b[0;34m\u001b[0m\u001b[0m\n\u001b[1;32m   1034\u001b[0m     \u001b[0;32mdef\u001b[0m \u001b[0marchive\u001b[0m\u001b[0;34m(\u001b[0m\u001b[0mself\u001b[0m\u001b[0;34m,\u001b[0m \u001b[0mostream\u001b[0m\u001b[0;34m,\u001b[0m \u001b[0mtreeish\u001b[0m\u001b[0;34m=\u001b[0m\u001b[0;32mNone\u001b[0m\u001b[0;34m,\u001b[0m \u001b[0mprefix\u001b[0m\u001b[0;34m=\u001b[0m\u001b[0;32mNone\u001b[0m\u001b[0;34m,\u001b[0m \u001b[0;34m**\u001b[0m\u001b[0mkwargs\u001b[0m\u001b[0;34m)\u001b[0m\u001b[0;34m:\u001b[0m\u001b[0;34m\u001b[0m\u001b[0;34m\u001b[0m\u001b[0m\n",
            "\u001b[0;32m/usr/local/lib/python3.7/dist-packages/git/repo/base.py\u001b[0m in \u001b[0;36m_clone\u001b[0;34m(cls, git, url, path, odb_default_type, progress, multi_options, **kwargs)\u001b[0m\n\u001b[1;32m    971\u001b[0m             \u001b[0;34m(\u001b[0m\u001b[0mstdout\u001b[0m\u001b[0;34m,\u001b[0m \u001b[0mstderr\u001b[0m\u001b[0;34m)\u001b[0m \u001b[0;34m=\u001b[0m \u001b[0mproc\u001b[0m\u001b[0;34m.\u001b[0m\u001b[0mcommunicate\u001b[0m\u001b[0;34m(\u001b[0m\u001b[0;34m)\u001b[0m\u001b[0;34m\u001b[0m\u001b[0;34m\u001b[0m\u001b[0m\n\u001b[1;32m    972\u001b[0m             \u001b[0mlog\u001b[0m\u001b[0;34m.\u001b[0m\u001b[0mdebug\u001b[0m\u001b[0;34m(\u001b[0m\u001b[0;34m\"Cmd(%s)'s unused stdout: %s\"\u001b[0m\u001b[0;34m,\u001b[0m \u001b[0mgetattr\u001b[0m\u001b[0;34m(\u001b[0m\u001b[0mproc\u001b[0m\u001b[0;34m,\u001b[0m \u001b[0;34m'args'\u001b[0m\u001b[0;34m,\u001b[0m \u001b[0;34m''\u001b[0m\u001b[0;34m)\u001b[0m\u001b[0;34m,\u001b[0m \u001b[0mstdout\u001b[0m\u001b[0;34m)\u001b[0m\u001b[0;34m\u001b[0m\u001b[0;34m\u001b[0m\u001b[0m\n\u001b[0;32m--> 973\u001b[0;31m             \u001b[0mfinalize_process\u001b[0m\u001b[0;34m(\u001b[0m\u001b[0mproc\u001b[0m\u001b[0;34m,\u001b[0m \u001b[0mstderr\u001b[0m\u001b[0;34m=\u001b[0m\u001b[0mstderr\u001b[0m\u001b[0;34m)\u001b[0m\u001b[0;34m\u001b[0m\u001b[0;34m\u001b[0m\u001b[0m\n\u001b[0m\u001b[1;32m    974\u001b[0m \u001b[0;34m\u001b[0m\u001b[0m\n\u001b[1;32m    975\u001b[0m         \u001b[0;31m# our git command could have a different working dir than our actual\u001b[0m\u001b[0;34m\u001b[0m\u001b[0;34m\u001b[0m\u001b[0;34m\u001b[0m\u001b[0m\n",
            "\u001b[0;32m/usr/local/lib/python3.7/dist-packages/git/util.py\u001b[0m in \u001b[0;36mfinalize_process\u001b[0;34m(proc, **kwargs)\u001b[0m\n\u001b[1;32m    327\u001b[0m     \u001b[0;34m\"\"\"Wait for the process (clone, fetch, pull or push) and handle its errors accordingly\"\"\"\u001b[0m\u001b[0;34m\u001b[0m\u001b[0;34m\u001b[0m\u001b[0m\n\u001b[1;32m    328\u001b[0m     \u001b[0;31m## TODO: No close proc-streams??\u001b[0m\u001b[0;34m\u001b[0m\u001b[0;34m\u001b[0m\u001b[0;34m\u001b[0m\u001b[0m\n\u001b[0;32m--> 329\u001b[0;31m     \u001b[0mproc\u001b[0m\u001b[0;34m.\u001b[0m\u001b[0mwait\u001b[0m\u001b[0;34m(\u001b[0m\u001b[0;34m**\u001b[0m\u001b[0mkwargs\u001b[0m\u001b[0;34m)\u001b[0m\u001b[0;34m\u001b[0m\u001b[0;34m\u001b[0m\u001b[0m\n\u001b[0m\u001b[1;32m    330\u001b[0m \u001b[0;34m\u001b[0m\u001b[0m\n\u001b[1;32m    331\u001b[0m \u001b[0;34m\u001b[0m\u001b[0m\n",
            "\u001b[0;32m/usr/local/lib/python3.7/dist-packages/git/cmd.py\u001b[0m in \u001b[0;36mwait\u001b[0;34m(self, stderr)\u001b[0m\n\u001b[1;32m    406\u001b[0m                 \u001b[0merrstr\u001b[0m \u001b[0;34m=\u001b[0m \u001b[0mread_all_from_possibly_closed_stream\u001b[0m\u001b[0;34m(\u001b[0m\u001b[0mself\u001b[0m\u001b[0;34m.\u001b[0m\u001b[0mproc\u001b[0m\u001b[0;34m.\u001b[0m\u001b[0mstderr\u001b[0m\u001b[0;34m)\u001b[0m\u001b[0;34m\u001b[0m\u001b[0;34m\u001b[0m\u001b[0m\n\u001b[1;32m    407\u001b[0m                 \u001b[0mlog\u001b[0m\u001b[0;34m.\u001b[0m\u001b[0mdebug\u001b[0m\u001b[0;34m(\u001b[0m\u001b[0;34m'AutoInterrupt wait stderr: %r'\u001b[0m \u001b[0;34m%\u001b[0m \u001b[0;34m(\u001b[0m\u001b[0merrstr\u001b[0m\u001b[0;34m,\u001b[0m\u001b[0;34m)\u001b[0m\u001b[0;34m)\u001b[0m\u001b[0;34m\u001b[0m\u001b[0;34m\u001b[0m\u001b[0m\n\u001b[0;32m--> 408\u001b[0;31m                 \u001b[0;32mraise\u001b[0m \u001b[0mGitCommandError\u001b[0m\u001b[0;34m(\u001b[0m\u001b[0mself\u001b[0m\u001b[0;34m.\u001b[0m\u001b[0margs\u001b[0m\u001b[0;34m,\u001b[0m \u001b[0mstatus\u001b[0m\u001b[0;34m,\u001b[0m \u001b[0merrstr\u001b[0m\u001b[0;34m)\u001b[0m\u001b[0;34m\u001b[0m\u001b[0;34m\u001b[0m\u001b[0m\n\u001b[0m\u001b[1;32m    409\u001b[0m             \u001b[0;31m# END status handling\u001b[0m\u001b[0;34m\u001b[0m\u001b[0;34m\u001b[0m\u001b[0;34m\u001b[0m\u001b[0m\n\u001b[1;32m    410\u001b[0m             \u001b[0;32mreturn\u001b[0m \u001b[0mstatus\u001b[0m\u001b[0;34m\u001b[0m\u001b[0;34m\u001b[0m\u001b[0m\n",
            "\u001b[0;31mGitCommandError\u001b[0m: Cmd('git') failed due to: exit code(128)\n  cmdline: git clone -v https://github.com/zeeguu-ecosystem/Zeeguu-api /Users/mircea/Zeeguu-API\n  stderr: 'fatal: destination path '/Users/mircea/Zeeguu-API' already exists and is not an empty directory.\n'"
          ]
        }
      ]
    },
    {
      "cell_type": "code",
      "metadata": {
        "colab": {
          "base_uri": "https://localhost:8080/"
        },
        "id": "dyljao8PNXry",
        "outputId": "a2870645-419c-407f-b034-b64ecb3f3a77"
      },
      "source": [
        "Repo.clone_from(\"https://github.com/zeeguu-ecosystem/Zeeguu-Core\",ZEEGUU_CORE_FOLDER )"
      ],
      "execution_count": 21,
      "outputs": [
        {
          "output_type": "execute_result",
          "data": {
            "text/plain": [
              "<git.repo.base.Repo '/Users/mircea/Zeeguu-Core/.git'>"
            ]
          },
          "metadata": {
            "tags": []
          },
          "execution_count": 21
        }
      ]
    },
    {
      "cell_type": "code",
      "metadata": {
        "id": "oPpP0D7INPbd"
      },
      "source": [
        ""
      ],
      "execution_count": null,
      "outputs": []
    },
    {
      "cell_type": "code",
      "metadata": {
        "id": "U3-cmpYsKoSP"
      },
      "source": [
        "repo = Repo(ZEEGUU_CORE_FOLDER)"
      ],
      "execution_count": 22,
      "outputs": []
    },
    {
      "cell_type": "markdown",
      "metadata": {
        "id": "RBtz56VxKoSQ"
      },
      "source": [
        "## Let's find the largest python file in the repository"
      ]
    },
    {
      "cell_type": "code",
      "metadata": {
        "colab": {
          "base_uri": "https://localhost:8080/"
        },
        "id": "pKIt8d-tKoSQ",
        "outputId": "37739824-b8c6-4137-d8c0-5a0a861d0341"
      },
      "source": [
        "!{sys.executable} -m pip install pathlib"
      ],
      "execution_count": 23,
      "outputs": [
        {
          "output_type": "stream",
          "text": [
            "Requirement already satisfied: pathlib in /usr/local/lib/python3.7/dist-packages (1.0.1)\n"
          ],
          "name": "stdout"
        }
      ]
    },
    {
      "cell_type": "code",
      "metadata": {
        "colab": {
          "base_uri": "https://localhost:8080/"
        },
        "id": "TKRdpmKbKoSQ",
        "outputId": "dbea9ecb-7dee-4762-d0e6-2b6a860603d2"
      },
      "source": [
        "from pathlib import Path\n",
        "files = []\n",
        "for file in Path(ZEEGUU_API_FOLDER).rglob(\"*.py\"):\n",
        "    print(file)\n",
        "    files.append(file)\n",
        "    \n",
        "print(len(files))"
      ],
      "execution_count": 24,
      "outputs": [
        {
          "output_type": "stream",
          "text": [
            "/Users/mircea/Zeeguu-API/env_var_defs_default.py\n",
            "/Users/mircea/Zeeguu-API/setup.py\n",
            "/Users/mircea/Zeeguu-API/zeeguu_core/__init__.py\n",
            "/Users/mircea/Zeeguu-API/zeeguu_core/constants.py\n",
            "/Users/mircea/Zeeguu-API/zeeguu_core/word_scheduling/__init__.py\n",
            "/Users/mircea/Zeeguu-API/zeeguu_core/word_scheduling/arts/__init__.py\n",
            "/Users/mircea/Zeeguu-API/zeeguu_core/word_scheduling/arts/arts_base.py\n",
            "/Users/mircea/Zeeguu-API/zeeguu_core/word_scheduling/arts/algorithm_wrapper.py\n",
            "/Users/mircea/Zeeguu-API/zeeguu_core/word_scheduling/arts/ab_testing.py\n",
            "/Users/mircea/Zeeguu-API/zeeguu_core/word_scheduling/arts/bookmark_priority_updater.py\n",
            "/Users/mircea/Zeeguu-API/zeeguu_core/word_scheduling/arts/arts_rt.py\n",
            "/Users/mircea/Zeeguu-API/zeeguu_core/word_scheduling/arts/words_to_study.py\n",
            "/Users/mircea/Zeeguu-API/zeeguu_core/word_scheduling/arts/tools/__init__.py\n",
            "/Users/mircea/Zeeguu-API/zeeguu_core/word_scheduling/arts/tools/algo_parameter_approximator.py\n",
            "/Users/mircea/Zeeguu-API/zeeguu_core/word_scheduling/arts/analysis/__init__.py\n",
            "/Users/mircea/Zeeguu-API/zeeguu_core/word_scheduling/arts/analysis/normal_distribution.py\n",
            "/Users/mircea/Zeeguu-API/zeeguu_core/word_scheduling/arts/experiments/__init__.py\n",
            "/Users/mircea/Zeeguu-API/zeeguu_core/word_scheduling/arts/experiments/arts_diff_slow.py\n",
            "/Users/mircea/Zeeguu-API/zeeguu_core/word_scheduling/arts/experiments/arts_random.py\n",
            "/Users/mircea/Zeeguu-API/zeeguu_core/word_scheduling/arts/experiments/arts_diff_fast.py\n",
            "/Users/mircea/Zeeguu-API/zeeguu_core/user_statistics/activity.py\n",
            "/Users/mircea/Zeeguu-API/zeeguu_core/crowd_translations/__init__.py\n",
            "/Users/mircea/Zeeguu-API/zeeguu_core/elastic/elastic_query_builder.py\n",
            "/Users/mircea/Zeeguu-API/zeeguu_core/elastic/__init__.py\n",
            "/Users/mircea/Zeeguu-API/zeeguu_core/elastic/converting_from_mysql.py\n",
            "/Users/mircea/Zeeguu-API/zeeguu_core/elastic/settings.py\n",
            "/Users/mircea/Zeeguu-API/zeeguu_core/model/starred_article.py\n",
            "/Users/mircea/Zeeguu-API/zeeguu_core/model/domain_name.py\n",
            "/Users/mircea/Zeeguu-API/zeeguu_core/model/__init__.py\n",
            "/Users/mircea/Zeeguu-API/zeeguu_core/model/bookmark_priority_arts.py\n",
            "/Users/mircea/Zeeguu-API/zeeguu_core/model/text.py\n",
            "/Users/mircea/Zeeguu-API/zeeguu_core/model/unique_code.py\n",
            "/Users/mircea/Zeeguu-API/zeeguu_core/model/user.py\n",
            "/Users/mircea/Zeeguu-API/zeeguu_core/model/user_preference.py\n",
            "/Users/mircea/Zeeguu-API/zeeguu_core/model/article_word.py\n",
            "/Users/mircea/Zeeguu-API/zeeguu_core/model/search_filter.py\n",
            "/Users/mircea/Zeeguu-API/zeeguu_core/model/url.py\n",
            "/Users/mircea/Zeeguu-API/zeeguu_core/model/language.py\n",
            "/Users/mircea/Zeeguu-API/zeeguu_core/model/teacher_cohort_map.py\n",
            "/Users/mircea/Zeeguu-API/zeeguu_core/model/feed_registrations.py\n",
            "/Users/mircea/Zeeguu-API/zeeguu_core/model/ranked_word.py\n",
            "/Users/mircea/Zeeguu-API/zeeguu_core/model/user_reading_session.py\n",
            "/Users/mircea/Zeeguu-API/zeeguu_core/model/exercise_outcome.py\n",
            "/Users/mircea/Zeeguu-API/zeeguu_core/model/session.py\n",
            "/Users/mircea/Zeeguu-API/zeeguu_core/model/user_activitiy_data.py\n",
            "/Users/mircea/Zeeguu-API/zeeguu_core/model/bookmark.py\n",
            "/Users/mircea/Zeeguu-API/zeeguu_core/model/cohort.py\n",
            "/Users/mircea/Zeeguu-API/zeeguu_core/model/exercise_source.py\n",
            "/Users/mircea/Zeeguu-API/zeeguu_core/model/topic.py\n",
            "/Users/mircea/Zeeguu-API/zeeguu_core/model/search_subscription.py\n",
            "/Users/mircea/Zeeguu-API/zeeguu_core/model/SortedExerciseLog.py\n",
            "/Users/mircea/Zeeguu-API/zeeguu_core/model/localized_topic.py\n",
            "/Users/mircea/Zeeguu-API/zeeguu_core/model/user_word.py\n",
            "/Users/mircea/Zeeguu-API/zeeguu_core/model/teacher.py\n",
            "/Users/mircea/Zeeguu-API/zeeguu_core/model/article.py\n",
            "/Users/mircea/Zeeguu-API/zeeguu_core/model/articles_cache.py\n",
            "/Users/mircea/Zeeguu-API/zeeguu_core/model/user_article.py\n",
            "/Users/mircea/Zeeguu-API/zeeguu_core/model/topic_subscription.py\n",
            "/Users/mircea/Zeeguu-API/zeeguu_core/model/exercise.py\n",
            "/Users/mircea/Zeeguu-API/zeeguu_core/model/search.py\n",
            "/Users/mircea/Zeeguu-API/zeeguu_core/model/topic_filter.py\n",
            "/Users/mircea/Zeeguu-API/zeeguu_core/model/user_language.py\n",
            "/Users/mircea/Zeeguu-API/zeeguu_core/model/cohort_article_map.py\n",
            "/Users/mircea/Zeeguu-API/zeeguu_core/model/student.py\n",
            "/Users/mircea/Zeeguu-API/zeeguu_core/model/user_exercise_session.py\n",
            "/Users/mircea/Zeeguu-API/zeeguu_core/model/feed.py\n",
            "/Users/mircea/Zeeguu-API/zeeguu_core/model/word_knowledge/word_interaction_history.py\n",
            "/Users/mircea/Zeeguu-API/zeeguu_core/model/word_knowledge/__init__.py\n",
            "/Users/mircea/Zeeguu-API/zeeguu_core/model/learner_stats/__init__.py\n",
            "/Users/mircea/Zeeguu-API/zeeguu_core/model/learner_stats/exercise_stats.py\n",
            "/Users/mircea/Zeeguu-API/zeeguu_core/model/learner_stats/encounter_stats_update.py\n",
            "/Users/mircea/Zeeguu-API/zeeguu_core/model/learner_stats/learner_stats.py\n",
            "/Users/mircea/Zeeguu-API/zeeguu_core/model/learner_stats/encounter_stats.py\n",
            "/Users/mircea/Zeeguu-API/zeeguu_core/model/smartwatch/__init__.py\n",
            "/Users/mircea/Zeeguu-API/zeeguu_core/model/smartwatch/watch_interaction_event.py\n",
            "/Users/mircea/Zeeguu-API/zeeguu_core/model/smartwatch/watch_event_type.py\n",
            "/Users/mircea/Zeeguu-API/zeeguu_core/util/__init__.py\n",
            "/Users/mircea/Zeeguu-API/zeeguu_core/util/text.py\n",
            "/Users/mircea/Zeeguu-API/zeeguu_core/util/timer_logging_decorator.py\n",
            "/Users/mircea/Zeeguu-API/zeeguu_core/util/hash.py\n",
            "/Users/mircea/Zeeguu-API/zeeguu_core/util/encoding.py\n",
            "/Users/mircea/Zeeguu-API/zeeguu_core/bookmark_quality/__init__.py\n",
            "/Users/mircea/Zeeguu-API/zeeguu_core/bookmark_quality/fit_for_study.py\n",
            "/Users/mircea/Zeeguu-API/zeeguu_core/bookmark_quality/negative_qualities.py\n",
            "/Users/mircea/Zeeguu-API/zeeguu_core/bookmark_quality/positive_qualities.py\n",
            "/Users/mircea/Zeeguu-API/zeeguu_core/bookmark_quality/top_bookmarks_for_user.py\n",
            "/Users/mircea/Zeeguu-API/zeeguu_core/definition_of_learned/__init__.py\n",
            "/Users/mircea/Zeeguu-API/zeeguu_core/definition_of_learned/is_learned.py\n",
            "/Users/mircea/Zeeguu-API/zeeguu_core/content_recommender/__init__.py\n",
            "/Users/mircea/Zeeguu-API/zeeguu_core/content_recommender/elastic_first_recommender.py\n",
            "/Users/mircea/Zeeguu-API/zeeguu_core/content_recommender/elastic_recommender.py\n",
            "/Users/mircea/Zeeguu-API/zeeguu_core/content_recommender/mixed_recommender.py\n",
            "/Users/mircea/Zeeguu-API/zeeguu_core/content_retriever/__init__.py\n",
            "/Users/mircea/Zeeguu-API/zeeguu_core/content_retriever/quality_filter.py\n",
            "/Users/mircea/Zeeguu-API/zeeguu_core/content_retriever/unicode_normalization.py\n",
            "/Users/mircea/Zeeguu-API/zeeguu_core/content_retriever/content_cleaner.py\n",
            "/Users/mircea/Zeeguu-API/zeeguu_core/content_retriever/article_downloader.py\n",
            "/Users/mircea/Zeeguu-API/zeeguu_core/account_management/__init__.py\n",
            "/Users/mircea/Zeeguu-API/zeeguu_core/account_management/user_account_creation.py\n",
            "/Users/mircea/Zeeguu-API/zeeguu_core/exercises/__init__.py\n",
            "/Users/mircea/Zeeguu-API/zeeguu_core/exercises/similar_words.py\n",
            "/Users/mircea/Zeeguu-API/zeeguu_core/emailer/__init__.py\n",
            "/Users/mircea/Zeeguu-API/zeeguu_core/emailer/zeeguu_mailer.py\n",
            "/Users/mircea/Zeeguu-API/zeeguu_core/emailer/user_activity.py\n",
            "/Users/mircea/Zeeguu-API/zeeguu_core/emailer/password_reset.py\n",
            "/Users/mircea/Zeeguu-API/zeeguu_core/configuration/__init__.py\n",
            "/Users/mircea/Zeeguu-API/zeeguu_core/configuration/configuration.py\n",
            "/Users/mircea/Zeeguu-API/zeeguu_core/language/__init__.py\n",
            "/Users/mircea/Zeeguu-API/zeeguu_core/language/difficulty_estimator_strategy.py\n",
            "/Users/mircea/Zeeguu-API/zeeguu_core/language/difficulty_estimator_factory.py\n",
            "/Users/mircea/Zeeguu-API/zeeguu_core/language/strategies/frequency_difficulty_estimator.py\n",
            "/Users/mircea/Zeeguu-API/zeeguu_core/language/strategies/cognacy_wh_difficulty_estimator.py\n",
            "/Users/mircea/Zeeguu-API/zeeguu_core/language/strategies/__init__.py\n",
            "/Users/mircea/Zeeguu-API/zeeguu_core/language/strategies/word_rank_difficulty_estimator.py\n",
            "/Users/mircea/Zeeguu-API/zeeguu_core/language/strategies/flesch_kincaid_difficulty_estimator.py\n",
            "/Users/mircea/Zeeguu-API/zeeguu_core/language/strategies/cognacy_difficulty_estimator.py\n",
            "/Users/mircea/Zeeguu-API/zeeguu_core/language/strategies/word_history_difficulty_estimator.py\n",
            "/Users/mircea/Zeeguu-API/zeeguu_core/language/strategies/default_difficulty_estimator.py\n",
            "/Users/mircea/Zeeguu-API/zeeguu_core/user_activity_hooks/__init__.py\n",
            "/Users/mircea/Zeeguu-API/zeeguu_core/user_activity_hooks/article_interaction_hooks.py\n",
            "/Users/mircea/Zeeguu-API/tools/exercise_analysis.py\n",
            "/Users/mircea/Zeeguu-API/tools/delete_bookmark.py\n",
            "/Users/mircea/Zeeguu-API/tools/fix_bookmark_priorities.py\n",
            "/Users/mircea/Zeeguu-API/tools/__init__.py\n",
            "/Users/mircea/Zeeguu-API/tools/forget_user.py\n",
            "/Users/mircea/Zeeguu-API/tools/migrate_starredarticle_2_userarticle.py\n",
            "/Users/mircea/Zeeguu-API/tools/find_broken_articles.py\n",
            "/Users/mircea/Zeeguu-API/tools/bookmark_info.py\n",
            "/Users/mircea/Zeeguu-API/tools/remove_unreferenced_articles.py\n",
            "/Users/mircea/Zeeguu-API/tools/learner_level.py\n",
            "/Users/mircea/Zeeguu-API/tools/anonimize_users.py\n",
            "/Users/mircea/Zeeguu-API/tools/update_feed.py\n",
            "/Users/mircea/Zeeguu-API/tools/bookmark_priorities_for_user.py\n",
            "/Users/mircea/Zeeguu-API/tools/add_article_id_to_text.py\n",
            "/Users/mircea/Zeeguu-API/tools/article_crawler.py\n",
            "/Users/mircea/Zeeguu-API/tools/saturate_word_interaction_history.py\n",
            "/Users/mircea/Zeeguu-API/tools/add_rssfeed.py\n",
            "/Users/mircea/Zeeguu-API/tools/update_particular_tag.py\n",
            "/Users/mircea/Zeeguu-API/tools/fill_historical_reading_sessions.py\n",
            "/Users/mircea/Zeeguu-API/tools/fill_historical_exercise_sessions.py\n",
            "/Users/mircea/Zeeguu-API/tools/map_article_words.py\n",
            "/Users/mircea/Zeeguu-API/tools/past_exercises_for_user.py\n",
            "/Users/mircea/Zeeguu-API/tools/delete_feed.py\n",
            "/Users/mircea/Zeeguu-API/tools/feed_retrieval.py\n",
            "/Users/mircea/Zeeguu-API/tools/consolidate_accounts.py\n",
            "/Users/mircea/Zeeguu-API/tools/flatten_unicode_characters.py\n",
            "/Users/mircea/Zeeguu-API/tools/tag_existing_articles.py\n",
            "/Users/mircea/Zeeguu-API/tools/cleanup_non_content_bits.py\n",
            "/Users/mircea/Zeeguu-API/tools/add_standard_topics.py\n",
            "/Users/mircea/Zeeguu-API/tools/fill_article_ids.py\n",
            "/Users/mircea/Zeeguu-API/tools/mysql_to_elastic.py\n",
            "/Users/mircea/Zeeguu-API/tools/users_recently_active.py\n",
            "/Users/mircea/Zeeguu-API/tools/recompute_recommender_cache.py\n",
            "/Users/mircea/Zeeguu-API/tools/_playground.py\n",
            "/Users/mircea/Zeeguu-API/tools/recompute_fk_difficulties_for_polish.py\n",
            "/Users/mircea/Zeeguu-API/tools/fix_bookmark_learned_status.py\n",
            "/Users/mircea/Zeeguu-API/tools/tag_topics_in_danish.py\n",
            "/Users/mircea/Zeeguu-API/tools/add_all_cohorts_to_teacher.py\n",
            "/Users/mircea/Zeeguu-API/tools/feed_info.py\n",
            "/Users/mircea/Zeeguu-API/tools/migrations/migrate_user_languages.py\n",
            "/Users/mircea/Zeeguu-API/tools/migrations/redo_hash.py\n",
            "/Users/mircea/Zeeguu-API/tools/migrations/towards_single_translation.py\n",
            "/Users/mircea/Zeeguu-API/tools/migrations/add_icon_name_to_rss_feed.py\n",
            "/Users/mircea/Zeeguu-API/tools/migrations/migrate_passwords.py\n",
            "/Users/mircea/Zeeguu-API/tools/migrations/fix_text_duplications.py\n",
            "/Users/mircea/Zeeguu-API/tools/migrations/teacher_dashboard_migration_1/downgrade.py\n",
            "/Users/mircea/Zeeguu-API/tools/migrations/teacher_dashboard_migration_1/upgrade.py\n",
            "/Users/mircea/Zeeguu-API/tools/vis/generate-matrix-vis.py\n",
            "/Users/mircea/Zeeguu-API/zeeguu_api_test/test_teacher_dashboard.py\n",
            "/Users/mircea/Zeeguu-API/zeeguu_api_test/test_user_articles.py\n",
            "/Users/mircea/Zeeguu-API/zeeguu_api_test/test_system_settings.py\n",
            "/Users/mircea/Zeeguu-API/zeeguu_api_test/__init__.py\n",
            "/Users/mircea/Zeeguu-API/zeeguu_api_test/test_user_login.py\n",
            "/Users/mircea/Zeeguu-API/zeeguu_api_test/test_translations.py\n",
            "/Users/mircea/Zeeguu-API/zeeguu_api_test/test_user_languages.py\n",
            "/Users/mircea/Zeeguu-API/zeeguu_api_test/test_possible_translations.py\n",
            "/Users/mircea/Zeeguu-API/zeeguu_api_test/test_article.py\n",
            "/Users/mircea/Zeeguu-API/zeeguu_api_test/test_user_data.py\n",
            "/Users/mircea/Zeeguu-API/zeeguu_api_test/test_feeds.py\n",
            "/Users/mircea/Zeeguu-API/zeeguu_api_test/test_bookmark.py\n",
            "/Users/mircea/Zeeguu-API/zeeguu_api_test/test_smartwatch_events.py\n",
            "/Users/mircea/Zeeguu-API/zeeguu_api_test/api_test_mixin.py\n",
            "/Users/mircea/Zeeguu-API/zeeguu_api_test/test_architectural_conventions.py\n",
            "/Users/mircea/Zeeguu-API/zeeguu_api_test/test_session.py\n",
            "/Users/mircea/Zeeguu-API/zeeguu_api_test/test_user_article.py\n",
            "/Users/mircea/Zeeguu-API/zeeguu_api_test/mocks/__init__.py\n",
            "/Users/mircea/Zeeguu-API/zeeguu_api_test/mocks/mock_translator.py\n",
            "/Users/mircea/Zeeguu-API/zeeguu_api/__init__.py\n",
            "/Users/mircea/Zeeguu-API/zeeguu_api/__main__.py\n",
            "/Users/mircea/Zeeguu-API/zeeguu_api/cross_domain_app.py\n",
            "/Users/mircea/Zeeguu-API/zeeguu_api/custom_fmd_graphs.py\n",
            "/Users/mircea/Zeeguu-API/zeeguu_api/app.py\n",
            "/Users/mircea/Zeeguu-API/zeeguu_api/api/system_languages.py\n",
            "/Users/mircea/Zeeguu-API/zeeguu_api/api/user_statistics.py\n",
            "/Users/mircea/Zeeguu-API/zeeguu_api/api/exercises.py\n",
            "/Users/mircea/Zeeguu-API/zeeguu_api/api/speech.py\n",
            "/Users/mircea/Zeeguu-API/zeeguu_api/api/__init__.py\n",
            "/Users/mircea/Zeeguu-API/zeeguu_api/api/teacher_dashboard.py\n",
            "/Users/mircea/Zeeguu-API/zeeguu_api/api/user.py\n",
            "/Users/mircea/Zeeguu-API/zeeguu_api/api/smartwatch.py\n",
            "/Users/mircea/Zeeguu-API/zeeguu_api/api/user_languages.py\n",
            "/Users/mircea/Zeeguu-API/zeeguu_api/api/own_texts.py\n",
            "/Users/mircea/Zeeguu-API/zeeguu_api/api/translator.py\n",
            "/Users/mircea/Zeeguu-API/zeeguu_api/api/activity_tracking.py\n",
            "/Users/mircea/Zeeguu-API/zeeguu_api/api/topics.py\n",
            "/Users/mircea/Zeeguu-API/zeeguu_api/api/user_articles.py\n",
            "/Users/mircea/Zeeguu-API/zeeguu_api/api/feeds.py\n",
            "/Users/mircea/Zeeguu-API/zeeguu_api/api/bookmarks_and_words.py\n",
            "/Users/mircea/Zeeguu-API/zeeguu_api/api/article.py\n",
            "/Users/mircea/Zeeguu-API/zeeguu_api/api/translate_and_bookmark.py\n",
            "/Users/mircea/Zeeguu-API/zeeguu_api/api/user_article.py\n",
            "/Users/mircea/Zeeguu-API/zeeguu_api/api/sessions.py\n",
            "/Users/mircea/Zeeguu-API/zeeguu_api/api/search.py\n",
            "/Users/mircea/Zeeguu-API/zeeguu_api/api/recommendations.py\n",
            "/Users/mircea/Zeeguu-API/zeeguu_api/api/accounts.py\n",
            "/Users/mircea/Zeeguu-API/zeeguu_api/api/student.py\n",
            "/Users/mircea/Zeeguu-API/zeeguu_api/api/utils/json_result.py\n",
            "/Users/mircea/Zeeguu-API/zeeguu_api/api/utils/__init__.py\n",
            "/Users/mircea/Zeeguu-API/zeeguu_api/api/utils/route_wrappers.py\n",
            "/Users/mircea/Zeeguu-API/zeeguu_api/api/utils/abort_handling.py\n",
            "/Users/mircea/Zeeguu-API/zeeguu_api/api/utils/feedparser_extensions.py\n",
            "/Users/mircea/Zeeguu-API/zeeguu_core_test/test_user_word.py\n",
            "/Users/mircea/Zeeguu-API/zeeguu_core_test/test_language.py\n",
            "/Users/mircea/Zeeguu-API/zeeguu_core_test/__init__.py\n",
            "/Users/mircea/Zeeguu-API/zeeguu_core_test/test_words_exercise_stats.py\n",
            "/Users/mircea/Zeeguu-API/zeeguu_core_test/test_article.py\n",
            "/Users/mircea/Zeeguu-API/zeeguu_core_test/test_localized_topic.py\n",
            "/Users/mircea/Zeeguu-API/zeeguu_core_test/test_words_to_study.py\n",
            "/Users/mircea/Zeeguu-API/zeeguu_core_test/test_reading_session.py\n",
            "/Users/mircea/Zeeguu-API/zeeguu_core_test/test_logging.py\n",
            "/Users/mircea/Zeeguu-API/zeeguu_core_test/test_bookmark.py\n",
            "/Users/mircea/Zeeguu-API/zeeguu_core_test/test_user_preferences.py\n",
            "/Users/mircea/Zeeguu-API/zeeguu_core_test/test_user.py\n",
            "/Users/mircea/Zeeguu-API/zeeguu_core_test/test_cohort.py\n",
            "/Users/mircea/Zeeguu-API/zeeguu_core_test/test_watch_event.py\n",
            "/Users/mircea/Zeeguu-API/zeeguu_core_test/test_exercise_session.py\n",
            "/Users/mircea/Zeeguu-API/zeeguu_core_test/test_difficulty_estimator_factory.py\n",
            "/Users/mircea/Zeeguu-API/zeeguu_core_test/test_feed.py\n",
            "/Users/mircea/Zeeguu-API/zeeguu_core_test/model_test_mixin.py\n",
            "/Users/mircea/Zeeguu-API/zeeguu_core_test/testing_data.py\n",
            "/Users/mircea/Zeeguu-API/zeeguu_core_test/test_domain.py\n",
            "/Users/mircea/Zeeguu-API/zeeguu_core_test/test_user_article.py\n",
            "/Users/mircea/Zeeguu-API/zeeguu_core_test/test_text.py\n",
            "/Users/mircea/Zeeguu-API/zeeguu_core_test/test_url.py\n",
            "/Users/mircea/Zeeguu-API/zeeguu_core_test/test_retrieve_and_compute.py\n",
            "/Users/mircea/Zeeguu-API/zeeguu_core_test/tests_difficulty_estimator_strategies/test_frequency_difficulty_estimator.py\n",
            "/Users/mircea/Zeeguu-API/zeeguu_core_test/tests_difficulty_estimator_strategies/__init__.py\n",
            "/Users/mircea/Zeeguu-API/zeeguu_core_test/tests_difficulty_estimator_strategies/test_default_difficulty_estimator.py\n",
            "/Users/mircea/Zeeguu-API/zeeguu_core_test/tests_difficulty_estimator_strategies/test_flesch_kincaid_difficulty_estimator.py\n",
            "/Users/mircea/Zeeguu-API/zeeguu_core_test/rules/watch_event_type_rule.py\n",
            "/Users/mircea/Zeeguu-API/zeeguu_core_test/rules/__init__.py\n",
            "/Users/mircea/Zeeguu-API/zeeguu_core_test/rules/user_rule.py\n",
            "/Users/mircea/Zeeguu-API/zeeguu_core_test/rules/base_rule.py\n",
            "/Users/mircea/Zeeguu-API/zeeguu_core_test/rules/text_rule.py\n",
            "/Users/mircea/Zeeguu-API/zeeguu_core_test/rules/user_article_rule.py\n",
            "/Users/mircea/Zeeguu-API/zeeguu_core_test/rules/language_rule.py\n",
            "/Users/mircea/Zeeguu-API/zeeguu_core_test/rules/user_reading_session_rule.py\n",
            "/Users/mircea/Zeeguu-API/zeeguu_core_test/rules/source_rule.py\n",
            "/Users/mircea/Zeeguu-API/zeeguu_core_test/rules/user_exercise_session_rule.py\n",
            "/Users/mircea/Zeeguu-API/zeeguu_core_test/rules/outcome_rule.py\n",
            "/Users/mircea/Zeeguu-API/zeeguu_core_test/rules/watch_interaction_event_rule.py\n",
            "/Users/mircea/Zeeguu-API/zeeguu_core_test/rules/article_rule.py\n",
            "/Users/mircea/Zeeguu-API/zeeguu_core_test/rules/exercise_rule.py\n",
            "/Users/mircea/Zeeguu-API/zeeguu_core_test/rules/bookmark_rule.py\n",
            "/Users/mircea/Zeeguu-API/zeeguu_core_test/rules/user_word_rule.py\n",
            "/Users/mircea/Zeeguu-API/zeeguu_core_test/rules/url_rule.py\n",
            "/Users/mircea/Zeeguu-API/zeeguu_core_test/rules/rss_feed_rule.py\n",
            "/Users/mircea/Zeeguu-API/zeeguu_core_test/rules/cohort_rule.py\n",
            "/Users/mircea/Zeeguu-API/zeeguu_core_test/test_data/__init__.py\n",
            "/Users/mircea/Zeeguu-API/zeeguu_core_test/test_data/mocking_the_web.py\n",
            "270\n"
          ],
          "name": "stdout"
        }
      ]
    },
    {
      "cell_type": "code",
      "metadata": {
        "colab": {
          "base_uri": "https://localhost:8080/"
        },
        "id": "6CT6rJkgKoSR",
        "outputId": "54fd4f25-9def-4f6c-a74c-8142392aeda1"
      },
      "source": [
        "def LOC(file):\n",
        "    return sum([1 for line in open(file)])\n",
        "\n",
        "LOC(ZEEGUU_CORE_FOLDER+'/zeeguu_core_test/rules/user_rule.py')\n",
        "    "
      ],
      "execution_count": 25,
      "outputs": [
        {
          "output_type": "execute_result",
          "data": {
            "text/plain": [
              "56"
            ]
          },
          "metadata": {
            "tags": []
          },
          "execution_count": 25
        }
      ]
    },
    {
      "cell_type": "code",
      "metadata": {
        "collapsed": true,
        "id": "DPJ3tPAQKoSR"
      },
      "source": [
        "def NOM(file):\n",
        "    # number of methods\n",
        "    pass"
      ],
      "execution_count": 26,
      "outputs": []
    },
    {
      "cell_type": "code",
      "metadata": {
        "colab": {
          "base_uri": "https://localhost:8080/"
        },
        "id": "OyfRZJalKoSR",
        "outputId": "9b2eaedc-e399-4ad7-b62e-668e23d43168"
      },
      "source": [
        "files = Path(ZEEGUU_CORE_FOLDER).rglob(\"*.py\")\n",
        "\n",
        "print(max([(f,LOC(str(f))) for f in files], key= lambda x: x[1]))"
      ],
      "execution_count": 27,
      "outputs": [
        {
          "output_type": "stream",
          "text": [
            "(PosixPath('/Users/mircea/Zeeguu-Core/zeeguu_core/model/user.py'), 680)\n"
          ],
          "name": "stdout"
        }
      ]
    },
    {
      "cell_type": "code",
      "metadata": {
        "colab": {
          "base_uri": "https://localhost:8080/"
        },
        "id": "MDerc875KoSS",
        "outputId": "53d4f88f-8dbd-4848-d653-ac6c9b52835a"
      },
      "source": [
        "from pathlib import Path\n",
        "\n",
        "files_and_LOCs = []\n",
        "for file in Path(ZEEGUU_CORE_FOLDER).rglob(\"*.py\"):\n",
        "    files_and_LOCs.append( \n",
        "        (LOC(str(file)),\n",
        "         str(file)\n",
        "        )\n",
        "    )\n",
        "\n",
        "files_and_LOCs.sort(key = lambda x: -x[0])\n",
        "for each in files_and_LOCs:\n",
        "    print (str(each[0]) + \" \" + str(each [1]))"
      ],
      "execution_count": 28,
      "outputs": [
        {
          "output_type": "stream",
          "text": [
            "680 /Users/mircea/Zeeguu-Core/zeeguu_core/model/user.py\n",
            "478 /Users/mircea/Zeeguu-Core/zeeguu_core/word_scheduling/arts/tools/algo_parameter_approximator.py\n",
            "403 /Users/mircea/Zeeguu-Core/zeeguu_core/model/user_reading_session.py\n",
            "347 /Users/mircea/Zeeguu-Core/zeeguu_core/content_recommender/mixed_recommender.py\n",
            "332 /Users/mircea/Zeeguu-Core/zeeguu_core/model/bookmark.py\n",
            "310 /Users/mircea/Zeeguu-Core/zeeguu_core/content_retriever/article_downloader.py\n",
            "298 /Users/mircea/Zeeguu-Core/zeeguu_core/model/article.py\n",
            "287 /Users/mircea/Zeeguu-Core/zeeguu_core/language/strategies/word_history_difficulty_estimator.py\n",
            "280 /Users/mircea/Zeeguu-Core/zeeguu_core/model/word_knowledge/word_interaction_history.py\n",
            "266 /Users/mircea/Zeeguu-Core/zeeguu_core/model/user_article.py\n",
            "257 /Users/mircea/Zeeguu-Core/zeeguu_core/model/user_activitiy_data.py\n",
            "255 /Users/mircea/Zeeguu-Core/zeeguu_core/model/feed.py\n",
            "238 /Users/mircea/Zeeguu-Core/zeeguu_core/model/user_exercise_session.py\n",
            "218 /Users/mircea/Zeeguu-Core/zeeguu_core_test/test_bookmark.py\n",
            "202 /Users/mircea/Zeeguu-Core/zeeguu_core/language/strategies/cognacy_wh_difficulty_estimator.py\n",
            "186 /Users/mircea/Zeeguu-Core/tools/saturate_word_interaction_history.py\n",
            "164 /Users/mircea/Zeeguu-Core/zeeguu_core/model/url.py\n",
            "164 /Users/mircea/Zeeguu-Core/zeeguu_core/model/language.py\n",
            "161 /Users/mircea/Zeeguu-Core/tools/exercise_analysis.py\n",
            "153 /Users/mircea/Zeeguu-Core/zeeguu_core_test/test_reading_session.py\n",
            "151 /Users/mircea/Zeeguu-Core/zeeguu_core/word_scheduling/arts/bookmark_priority_updater.py\n",
            "148 /Users/mircea/Zeeguu-Core/zeeguu_core/content_recommender/elastic_recommender.py\n",
            "146 /Users/mircea/Zeeguu-Core/zeeguu_core/language/strategies/frequency_difficulty_estimator.py\n",
            "139 /Users/mircea/Zeeguu-Core/zeeguu_core/language/strategies/cognacy_difficulty_estimator.py\n",
            "137 /Users/mircea/Zeeguu-Core/zeeguu_core_test/tests_difficulty_estimator_strategies/test_flesch_kincaid_difficulty_estimator.py\n",
            "132 /Users/mircea/Zeeguu-Core/zeeguu_core_test/test_user.py\n",
            "131 /Users/mircea/Zeeguu-Core/tools/migrations/teacher_dashboard_migration_1/upgrade.py\n",
            "130 /Users/mircea/Zeeguu-Core/zeeguu_core/elastic/elastic_query_builder.py\n",
            "129 /Users/mircea/Zeeguu-Core/zeeguu_core/model/user_preference.py\n",
            "120 /Users/mircea/Zeeguu-Core/zeeguu_core/language/strategies/word_rank_difficulty_estimator.py\n",
            "117 /Users/mircea/Zeeguu-Core/tools/map_article_words.py\n",
            "117 /Users/mircea/Zeeguu-Core/tools/migrations/teacher_dashboard_migration_1/downgrade.py\n",
            "116 /Users/mircea/Zeeguu-Core/zeeguu_core_test/test_exercise_session.py\n",
            "114 /Users/mircea/Zeeguu-Core/zeeguu_core/model/starred_article.py\n",
            "114 /Users/mircea/Zeeguu-Core/zeeguu_core/language/strategies/flesch_kincaid_difficulty_estimator.py\n",
            "108 /Users/mircea/Zeeguu-Core/zeeguu_core/model/text.py\n",
            "108 /Users/mircea/Zeeguu-Core/tools/remove_unreferenced_articles.py\n",
            "103 /Users/mircea/Zeeguu-Core/tools/fill_article_ids.py\n",
            "101 /Users/mircea/Zeeguu-Core/zeeguu_core/model/user_word.py\n",
            "96 /Users/mircea/Zeeguu-Core/zeeguu_core/crowd_translations/__init__.py\n",
            "96 /Users/mircea/Zeeguu-Core/zeeguu_core_test/test_retrieve_and_compute.py\n",
            "94 /Users/mircea/Zeeguu-Core/zeeguu_core/model/learner_stats/encounter_stats.py\n",
            "94 /Users/mircea/Zeeguu-Core/tools/recompute_recommender_cache.py\n",
            "94 /Users/mircea/Zeeguu-Core/zeeguu_core_test/rules/language_rule.py\n",
            "92 /Users/mircea/Zeeguu-Core/zeeguu_core_test/rules/bookmark_rule.py\n",
            "91 /Users/mircea/Zeeguu-Core/zeeguu_core/account_management/user_account_creation.py\n",
            "90 /Users/mircea/Zeeguu-Core/zeeguu_core/model/articles_cache.py\n",
            "89 /Users/mircea/Zeeguu-Core/zeeguu_core/model/exercise.py\n",
            "89 /Users/mircea/Zeeguu-Core/zeeguu_core/model/user_language.py\n",
            "88 /Users/mircea/Zeeguu-Core/zeeguu_core/model/__init__.py\n",
            "86 /Users/mircea/Zeeguu-Core/zeeguu_core/model/session.py\n",
            "84 /Users/mircea/Zeeguu-Core/zeeguu_core/model/exercise_outcome.py\n",
            "82 /Users/mircea/Zeeguu-Core/zeeguu_core/model/article_word.py\n",
            "82 /Users/mircea/Zeeguu-Core/zeeguu_core/user_activity_hooks/article_interaction_hooks.py\n",
            "82 /Users/mircea/Zeeguu-Core/tools/past_exercises_for_user.py\n",
            "78 /Users/mircea/Zeeguu-Core/zeeguu_core/model/domain_name.py\n",
            "78 /Users/mircea/Zeeguu-Core/zeeguu_core/model/topic.py\n",
            "78 /Users/mircea/Zeeguu-Core/zeeguu_core/model/learner_stats/learner_stats.py\n",
            "73 /Users/mircea/Zeeguu-Core/zeeguu_core/model/search_filter.py\n",
            "73 /Users/mircea/Zeeguu-Core/zeeguu_core/model/search_subscription.py\n",
            "72 /Users/mircea/Zeeguu-Core/zeeguu_core/model/topic_filter.py\n",
            "72 /Users/mircea/Zeeguu-Core/zeeguu_core_test/test_words_to_study.py\n",
            "71 /Users/mircea/Zeeguu-Core/zeeguu_core/model/cohort.py\n",
            "71 /Users/mircea/Zeeguu-Core/zeeguu_core/model/SortedExerciseLog.py\n",
            "71 /Users/mircea/Zeeguu-Core/zeeguu_core/model/topic_subscription.py\n",
            "71 /Users/mircea/Zeeguu-Core/zeeguu_core_test/test_data/mocking_the_web.py\n",
            "70 /Users/mircea/Zeeguu-Core/zeeguu_core/model/feed_registrations.py\n",
            "69 /Users/mircea/Zeeguu-Core/tools/learner_level.py\n",
            "68 /Users/mircea/Zeeguu-Core/zeeguu_core/util/text.py\n",
            "68 /Users/mircea/Zeeguu-Core/tools/add_standard_topics.py\n",
            "67 /Users/mircea/Zeeguu-Core/zeeguu_core/model/search.py\n",
            "67 /Users/mircea/Zeeguu-Core/zeeguu_core_test/rules/outcome_rule.py\n",
            "66 /Users/mircea/Zeeguu-Core/analyses/difficulties_for_user.py\n",
            "65 /Users/mircea/Zeeguu-Core/zeeguu_core/model/student.py\n",
            "64 /Users/mircea/Zeeguu-Core/zeeguu_core/configuration/configuration.py\n",
            "63 /Users/mircea/Zeeguu-Core/zeeguu_core/model/localized_topic.py\n",
            "62 /Users/mircea/Zeeguu-Core/zeeguu_core/word_scheduling/arts/algorithm_wrapper.py\n",
            "62 /Users/mircea/Zeeguu-Core/zeeguu_core/bookmark_quality/negative_qualities.py\n",
            "61 /Users/mircea/Zeeguu-Core/zeeguu_core_test/test_domain.py\n",
            "59 /Users/mircea/Zeeguu-Core/zeeguu_core_test/test_url.py\n",
            "59 /Users/mircea/Zeeguu-Core/zeeguu_core_test/rules/source_rule.py\n",
            "58 /Users/mircea/Zeeguu-Core/zeeguu_core/model/smartwatch/watch_interaction_event.py\n",
            "56 /Users/mircea/Zeeguu-Core/tools/mysql_to_elastic.py\n",
            "56 /Users/mircea/Zeeguu-Core/zeeguu_core_test/rules/user_rule.py\n",
            "55 /Users/mircea/Zeeguu-Core/zeeguu_core/word_scheduling/arts/words_to_study.py\n",
            "52 /Users/mircea/Zeeguu-Core/zeeguu_core/content_retriever/quality_filter.py\n",
            "52 /Users/mircea/Zeeguu-Core/tools/vis/generate-matrix-vis.py\n",
            "51 /Users/mircea/Zeeguu-Core/tools/fill_historical_reading_sessions.py\n",
            "50 /Users/mircea/Zeeguu-Core/tools/add_rssfeed.py\n",
            "50 /Users/mircea/Zeeguu-Core/tools/update_particular_tag.py\n",
            "49 /Users/mircea/Zeeguu-Core/zeeguu_core_test/test_cohort.py\n",
            "48 /Users/mircea/Zeeguu-Core/zeeguu_core/word_scheduling/arts/__init__.py\n",
            "48 /Users/mircea/Zeeguu-Core/zeeguu_core/word_scheduling/arts/ab_testing.py\n",
            "48 /Users/mircea/Zeeguu-Core/zeeguu_core_test/test_user_word.py\n",
            "48 /Users/mircea/Zeeguu-Core/zeeguu_core_test/rules/article_rule.py\n",
            "48 /Users/mircea/Zeeguu-Core/zeeguu_core_test/rules/rss_feed_rule.py\n",
            "47 /Users/mircea/Zeeguu-Core/zeeguu_core/emailer/zeeguu_mailer.py\n",
            "47 /Users/mircea/Zeeguu-Core/tools/feed_retrieval.py\n",
            "46 /Users/mircea/Zeeguu-Core/zeeguu_core/model/learner_stats/exercise_stats.py\n",
            "46 /Users/mircea/Zeeguu-Core/zeeguu_core/content_retriever/content_cleaner.py\n",
            "46 /Users/mircea/Zeeguu-Core/tools/consolidate_accounts.py\n",
            "46 /Users/mircea/Zeeguu-Core/zeeguu_core_test/test_language.py\n",
            "45 /Users/mircea/Zeeguu-Core/zeeguu_core/model/ranked_word.py\n",
            "45 /Users/mircea/Zeeguu-Core/tools/migrations/migrate_user_languages.py\n",
            "45 /Users/mircea/Zeeguu-Core/zeeguu_core_test/rules/exercise_rule.py\n",
            "44 /Users/mircea/Zeeguu-Core/zeeguu_core/model/teacher_cohort_map.py\n",
            "44 /Users/mircea/Zeeguu-Core/tools/flatten_unicode_characters.py\n",
            "44 /Users/mircea/Zeeguu-Core/zeeguu_core_test/test_localized_topic.py\n",
            "43 /Users/mircea/Zeeguu-Core/zeeguu_core_test/test_user_preferences.py\n",
            "43 /Users/mircea/Zeeguu-Core/zeeguu_core_test/rules/cohort_rule.py\n",
            "42 /Users/mircea/Zeeguu-Core/zeeguu_core/constants.py\n",
            "42 /Users/mircea/Zeeguu-Core/tools/add_article_id_to_text.py\n",
            "41 /Users/mircea/Zeeguu-Core/zeeguu_core_test/rules/text_rule.py\n",
            "41 /Users/mircea/Zeeguu-Core/zeeguu_core_test/rules/user_article_rule.py\n",
            "40 /Users/mircea/Zeeguu-Core/setup.py\n",
            "40 /Users/mircea/Zeeguu-Core/zeeguu_core/model/exercise_source.py\n",
            "40 /Users/mircea/Zeeguu-Core/zeeguu_core/content_recommender/elastic_first_recommender.py\n",
            "40 /Users/mircea/Zeeguu-Core/tools/fix_bookmark_learned_status.py\n",
            "40 /Users/mircea/Zeeguu-Core/zeeguu_core_test/test_article.py\n",
            "40 /Users/mircea/Zeeguu-Core/zeeguu_core_test/test_watch_event.py\n",
            "40 /Users/mircea/Zeeguu-Core/zeeguu_core_test/model_test_mixin.py\n",
            "40 /Users/mircea/Zeeguu-Core/zeeguu_core_test/rules/base_rule.py\n",
            "40 /Users/mircea/Zeeguu-Core/zeeguu_core_test/rules/url_rule.py\n",
            "39 /Users/mircea/Zeeguu-Core/zeeguu_core/word_scheduling/arts/arts_rt.py\n",
            "39 /Users/mircea/Zeeguu-Core/tools/cleanup_non_content_bits.py\n",
            "39 /Users/mircea/Zeeguu-Core/tools/migrations/fix_text_duplications.py\n",
            "39 /Users/mircea/Zeeguu-Core/zeeguu_core_test/rules/user_exercise_session_rule.py\n",
            "39 /Users/mircea/Zeeguu-Core/zeeguu_core_test/rules/user_word_rule.py\n",
            "38 /Users/mircea/Zeeguu-Core/tools/forget_user.py\n",
            "37 /Users/mircea/Zeeguu-Core/zeeguu_core/word_scheduling/arts/experiments/arts_diff_slow.py\n",
            "37 /Users/mircea/Zeeguu-Core/zeeguu_core/word_scheduling/arts/experiments/arts_diff_fast.py\n",
            "37 /Users/mircea/Zeeguu-Core/zeeguu_core/bookmark_quality/positive_qualities.py\n",
            "37 /Users/mircea/Zeeguu-Core/tools/find_broken_articles.py\n",
            "37 /Users/mircea/Zeeguu-Core/tools/tag_existing_articles.py\n",
            "35 /Users/mircea/Zeeguu-Core/tools/tag_topics_in_danish.py\n",
            "35 /Users/mircea/Zeeguu-Core/zeeguu_core_test/test_words_exercise_stats.py\n",
            "34 /Users/mircea/Zeeguu-Core/zeeguu_core/model/learner_stats/encounter_stats_update.py\n",
            "34 /Users/mircea/Zeeguu-Core/zeeguu_core/language/difficulty_estimator_strategy.py\n",
            "34 /Users/mircea/Zeeguu-Core/tools/fix_bookmark_priorities.py\n",
            "33 /Users/mircea/Zeeguu-Core/analyses/recent_activity.py\n",
            "33 /Users/mircea/Zeeguu-Core/zeeguu_core_test/test_user_article.py\n",
            "33 /Users/mircea/Zeeguu-Core/zeeguu_core_test/rules/watch_interaction_event_rule.py\n",
            "32 /Users/mircea/Zeeguu-Core/zeeguu_core/model/bookmark_priority_arts.py\n",
            "32 /Users/mircea/Zeeguu-Core/zeeguu_core/model/unique_code.py\n",
            "32 /Users/mircea/Zeeguu-Core/zeeguu_core/bookmark_quality/fit_for_study.py\n",
            "32 /Users/mircea/Zeeguu-Core/zeeguu_core_test/test_feed.py\n",
            "31 /Users/mircea/Zeeguu-Core/zeeguu_core/__init__.py\n",
            "31 /Users/mircea/Zeeguu-Core/zeeguu_core/language/difficulty_estimator_factory.py\n",
            "31 /Users/mircea/Zeeguu-Core/zeeguu_core_test/test_difficulty_estimator_factory.py\n",
            "31 /Users/mircea/Zeeguu-Core/zeeguu_core_test/rules/user_reading_session_rule.py\n",
            "30 /Users/mircea/Zeeguu-Core/tools/anonimize_users.py\n",
            "29 /Users/mircea/Zeeguu-Core/zeeguu_core_test/tests_difficulty_estimator_strategies/test_default_difficulty_estimator.py\n",
            "28 /Users/mircea/Zeeguu-Core/zeeguu_core/elastic/converting_from_mysql.py\n",
            "28 /Users/mircea/Zeeguu-Core/zeeguu_core_test/rules/watch_event_type_rule.py\n",
            "27 /Users/mircea/Zeeguu-Core/zeeguu_core/model/teacher.py\n",
            "27 /Users/mircea/Zeeguu-Core/tools/fill_historical_exercise_sessions.py\n",
            "26 /Users/mircea/Zeeguu-Core/zeeguu_core/model/smartwatch/watch_event_type.py\n",
            "26 /Users/mircea/Zeeguu-Core/zeeguu_core/bookmark_quality/top_bookmarks_for_user.py\n",
            "26 /Users/mircea/Zeeguu-Core/tools/delete_bookmark.py\n",
            "26 /Users/mircea/Zeeguu-Core/tools/delete_feed.py\n",
            "25 /Users/mircea/Zeeguu-Core/zeeguu_core/content_retriever/unicode_normalization.py\n",
            "25 /Users/mircea/Zeeguu-Core/zeeguu_core/emailer/user_activity.py\n",
            "25 /Users/mircea/Zeeguu-Core/playground/article_retrieval.py\n",
            "25 /Users/mircea/Zeeguu-Core/zeeguu_core_test/tests_difficulty_estimator_strategies/test_frequency_difficulty_estimator.py\n",
            "24 /Users/mircea/Zeeguu-Core/zeeguu_core/model/cohort_article_map.py\n",
            "24 /Users/mircea/Zeeguu-Core/zeeguu_core/util/hash.py\n",
            "24 /Users/mircea/Zeeguu-Core/zeeguu_core/language/strategies/default_difficulty_estimator.py\n",
            "24 /Users/mircea/Zeeguu-Core/tools/article_crawler.py\n",
            "23 /Users/mircea/Zeeguu-Core/zeeguu_core/util/encoding.py\n",
            "23 /Users/mircea/Zeeguu-Core/tools/update_feed.py\n",
            "23 /Users/mircea/Zeeguu-Core/tools/feed_info.py\n",
            "21 /Users/mircea/Zeeguu-Core/tools/migrations/towards_single_translation.py\n",
            "20 /Users/mircea/Zeeguu-Core/tools/add_all_cohorts_to_teacher.py\n",
            "19 /Users/mircea/Zeeguu-Core/zeeguu_core/word_scheduling/arts/experiments/arts_random.py\n",
            "19 /Users/mircea/Zeeguu-Core/tools/users_recently_active.py\n",
            "18 /Users/mircea/Zeeguu-Core/zeeguu_core/definition_of_learned/is_learned.py\n",
            "18 /Users/mircea/Zeeguu-Core/tools/recompute_fk_difficulties_for_polish.py\n",
            "17 /Users/mircea/Zeeguu-Core/tools/bookmark_priorities_for_user.py\n",
            "16 /Users/mircea/Zeeguu-Core/zeeguu_core/util/timer_logging_decorator.py\n",
            "16 /Users/mircea/Zeeguu-Core/tools/migrate_starredarticle_2_userarticle.py\n",
            "16 /Users/mircea/Zeeguu-Core/tools/migrations/migrate_passwords.py\n",
            "16 /Users/mircea/Zeeguu-Core/zeeguu_core_test/test_text.py\n",
            "15 /Users/mircea/Zeeguu-Core/zeeguu_core/emailer/password_reset.py\n",
            "15 /Users/mircea/Zeeguu-Core/tools/migrations/redo_hash.py\n",
            "12 /Users/mircea/Zeeguu-Core/zeeguu_core/word_scheduling/arts/analysis/normal_distribution.py\n",
            "12 /Users/mircea/Zeeguu-Core/tools/migrations/add_icon_name_to_rss_feed.py\n",
            "10 /Users/mircea/Zeeguu-Core/zeeguu_core/word_scheduling/__init__.py\n",
            "10 /Users/mircea/Zeeguu-Core/zeeguu_core/word_scheduling/arts/arts_base.py\n",
            "10 /Users/mircea/Zeeguu-Core/zeeguu_core_test/testing_data.py\n",
            "9 /Users/mircea/Zeeguu-Core/zeeguu_core_test/test_logging.py\n",
            "7 /Users/mircea/Zeeguu-Core/tools/bookmark_info.py\n",
            "7 /Users/mircea/Zeeguu-Core/playground/user_bookmarks.py\n",
            "6 /Users/mircea/Zeeguu-Core/zeeguu_core/elastic/settings.py\n",
            "5 /Users/mircea/Zeeguu-Core/zeeguu_core/util/__init__.py\n",
            "4 /Users/mircea/Zeeguu-Core/zeeguu_core/bookmark_quality/__init__.py\n",
            "4 /Users/mircea/Zeeguu-Core/zeeguu_core/content_recommender/__init__.py\n",
            "2 /Users/mircea/Zeeguu-Core/zeeguu_core/definition_of_learned/__init__.py\n",
            "1 /Users/mircea/Zeeguu-Core/zeeguu_core/configuration/__init__.py\n",
            "0 /Users/mircea/Zeeguu-Core/__init__.py\n",
            "0 /Users/mircea/Zeeguu-Core/zeeguu_core/word_scheduling/arts/tools/__init__.py\n",
            "0 /Users/mircea/Zeeguu-Core/zeeguu_core/word_scheduling/arts/analysis/__init__.py\n",
            "0 /Users/mircea/Zeeguu-Core/zeeguu_core/word_scheduling/arts/experiments/__init__.py\n",
            "0 /Users/mircea/Zeeguu-Core/zeeguu_core/elastic/__init__.py\n",
            "0 /Users/mircea/Zeeguu-Core/zeeguu_core/model/word_knowledge/__init__.py\n",
            "0 /Users/mircea/Zeeguu-Core/zeeguu_core/model/learner_stats/__init__.py\n",
            "0 /Users/mircea/Zeeguu-Core/zeeguu_core/model/smartwatch/__init__.py\n",
            "0 /Users/mircea/Zeeguu-Core/zeeguu_core/content_retriever/__init__.py\n",
            "0 /Users/mircea/Zeeguu-Core/zeeguu_core/account_management/__init__.py\n",
            "0 /Users/mircea/Zeeguu-Core/zeeguu_core/emailer/__init__.py\n",
            "0 /Users/mircea/Zeeguu-Core/zeeguu_core/language/__init__.py\n",
            "0 /Users/mircea/Zeeguu-Core/zeeguu_core/language/strategies/__init__.py\n",
            "0 /Users/mircea/Zeeguu-Core/zeeguu_core/user_activity_hooks/__init__.py\n",
            "0 /Users/mircea/Zeeguu-Core/tools/__init__.py\n",
            "0 /Users/mircea/Zeeguu-Core/analyses/__init__.py\n",
            "0 /Users/mircea/Zeeguu-Core/zeeguu_core_test/__init__.py\n",
            "0 /Users/mircea/Zeeguu-Core/zeeguu_core_test/tests_difficulty_estimator_strategies/__init__.py\n",
            "0 /Users/mircea/Zeeguu-Core/zeeguu_core_test/rules/__init__.py\n",
            "0 /Users/mircea/Zeeguu-Core/zeeguu_core_test/test_data/__init__.py\n"
          ],
          "name": "stdout"
        }
      ]
    },
    {
      "cell_type": "code",
      "metadata": {
        "id": "GL_9qmM8KoSS"
      },
      "source": [
        "def size_of_all_files(sizes_and_files):\n",
        "    pass"
      ],
      "execution_count": 29,
      "outputs": []
    },
    {
      "cell_type": "markdown",
      "metadata": {
        "id": "rxkjZJwKKoSS"
      },
      "source": [
        "## Recovering Module Views\n",
        "\n",
        "- modules & dependencies between them\n",
        "  - modules are easy\n",
        "  - how to extract the **dependencies**?"
      ]
    },
    {
      "cell_type": "code",
      "metadata": {
        "colab": {
          "base_uri": "https://localhost:8080/"
        },
        "id": "ieJYneddKoST",
        "outputId": "80fe2b63-fa63-4d0a-f63c-be1cbb65bec4"
      },
      "source": [
        "lines = [line for line in open(ZEEGUU_CORE_FOLDER+'/zeeguu_core/model/user.py')]\n",
        "\n",
        "for line in lines[:10]:    \n",
        "    print(line)"
      ],
      "execution_count": 30,
      "outputs": [
        {
          "output_type": "stream",
          "text": [
            "#\n",
            "\n",
            "import datetime\n",
            "\n",
            "import json\n",
            "\n",
            "import random\n",
            "\n",
            "import re\n",
            "\n",
            "\n",
            "\n",
            "import sqlalchemy.orm\n",
            "\n",
            "import zeeguu_core\n",
            "\n",
            "from sqlalchemy import Column, ForeignKey, Integer, func\n",
            "\n",
            "from sqlalchemy.orm import relationship\n",
            "\n"
          ],
          "name": "stdout"
        }
      ]
    },
    {
      "cell_type": "code",
      "metadata": {
        "colab": {
          "base_uri": "https://localhost:8080/",
          "height": 35
        },
        "id": "8UT6phPNKoST",
        "outputId": "fff51302-1cb9-4c8e-f17f-5ad755cb608c"
      },
      "source": [
        "import re\n",
        "\n",
        "def extract_import_from_line(line):\n",
        "    # TODO: think about how to detect imports when\n",
        "    # they are inside a function / method\n",
        "    x = re.search(\"^import (\\S+)\", line) \n",
        "    x = re.search(\"^from (\\S+)\", line) \n",
        "    return x.group(1)\n",
        "\n",
        "extract_import_from_line('from sqlalchemy import Column, ForeignKey, Integer, func')\n",
        "\n",
        "\n"
      ],
      "execution_count": 31,
      "outputs": [
        {
          "output_type": "execute_result",
          "data": {
            "application/vnd.google.colaboratory.intrinsic+json": {
              "type": "string"
            },
            "text/plain": [
              "'sqlalchemy'"
            ]
          },
          "metadata": {
            "tags": []
          },
          "execution_count": 31
        }
      ]
    },
    {
      "cell_type": "code",
      "metadata": {
        "colab": {
          "base_uri": "https://localhost:8080/"
        },
        "id": "aGzZg9z2KoST",
        "outputId": "e5dd6428-d696-4c10-d6ec-2ede4035f791"
      },
      "source": [
        "def imports(file):\n",
        "    lines = [line for line in open(file)]\n",
        "    \n",
        "    all_imports = []\n",
        "    for line in lines:\n",
        "        try:\n",
        "            all_imports.append(extract_import_from_line(line))\n",
        "        except:\n",
        "            continue\n",
        "\n",
        "    return all_imports\n",
        "\n",
        "print(imports(ZEEGUU_CORE_FOLDER+'/zeeguu_core/model/user.py'))"
      ],
      "execution_count": 32,
      "outputs": [
        {
          "output_type": "stream",
          "text": [
            "['sqlalchemy', 'sqlalchemy.orm', 'sqlalchemy.orm.exc', 'zeeguu_core', 'zeeguu_core.language.difficulty_estimator_factory', 'zeeguu_core.model']\n"
          ],
          "name": "stdout"
        }
      ]
    },
    {
      "cell_type": "markdown",
      "metadata": {
        "id": "a8Mwp1g0KoSU"
      },
      "source": [
        "## Extracting module from file name\n",
        "\n",
        "/Users/mircea/Zeeguu-Core/zeeguu_core/model/user.py \n",
        "->\n",
        "zeeguu_core.model.user\n",
        "\n"
      ]
    },
    {
      "cell_type": "code",
      "metadata": {
        "colab": {
          "base_uri": "https://localhost:8080/",
          "height": 35
        },
        "id": "oqYfV9UzKoSU",
        "outputId": "0d3ca0ef-0d07-4c99-d0a4-16fb1308500c"
      },
      "source": [
        "def module_from_file_path(folder_prefix, full_path):\n",
        "    file_name = full_path[len(folder_prefix):]\n",
        "    file_name = file_name.replace(\"/\",\".\")\n",
        "    file_name = file_name.replace(\".py\",\"\")\n",
        "    return file_name\n",
        "\n",
        "def module(full_path):\n",
        "    return module_from_file_path(ZEEGUU_CORE_FOLDER, full_path)\n",
        "\n",
        "module(ZEEGUU_CORE_FOLDER+'/zeeguu_core/model/user.py')"
      ],
      "execution_count": 33,
      "outputs": [
        {
          "output_type": "execute_result",
          "data": {
            "application/vnd.google.colaboratory.intrinsic+json": {
              "type": "string"
            },
            "text/plain": [
              "'.zeeguu_core.model.user'"
            ]
          },
          "metadata": {
            "tags": []
          },
          "execution_count": 33
        }
      ]
    },
    {
      "cell_type": "code",
      "metadata": {
        "colab": {
          "base_uri": "https://localhost:8080/"
        },
        "id": "EhETyhNdKoSU",
        "outputId": "ce3c49d7-add9-4acb-b4e9-ac95f4abb292"
      },
      "source": [
        "!{sys.executable} -m pip install networkx --upgrade\n",
        "!{sys.executable} -m pip install matplotlib"
      ],
      "execution_count": 34,
      "outputs": [
        {
          "output_type": "stream",
          "text": [
            "Requirement already up-to-date: networkx in /usr/local/lib/python3.7/dist-packages (2.5.1)\n",
            "Requirement already satisfied, skipping upgrade: decorator<5,>=4.3 in /usr/local/lib/python3.7/dist-packages (from networkx) (4.4.2)\n",
            "Requirement already satisfied: matplotlib in /usr/local/lib/python3.7/dist-packages (3.2.2)\n",
            "Requirement already satisfied: cycler>=0.10 in /usr/local/lib/python3.7/dist-packages (from matplotlib) (0.10.0)\n",
            "Requirement already satisfied: kiwisolver>=1.0.1 in /usr/local/lib/python3.7/dist-packages (from matplotlib) (1.3.1)\n",
            "Requirement already satisfied: python-dateutil>=2.1 in /usr/local/lib/python3.7/dist-packages (from matplotlib) (2.8.1)\n",
            "Requirement already satisfied: numpy>=1.11 in /usr/local/lib/python3.7/dist-packages (from matplotlib) (1.19.5)\n",
            "Requirement already satisfied: pyparsing!=2.0.4,!=2.1.2,!=2.1.6,>=2.0.1 in /usr/local/lib/python3.7/dist-packages (from matplotlib) (2.4.7)\n",
            "Requirement already satisfied: six in /usr/local/lib/python3.7/dist-packages (from cycler>=0.10->matplotlib) (1.15.0)\n"
          ],
          "name": "stdout"
        }
      ]
    },
    {
      "cell_type": "code",
      "metadata": {
        "colab": {
          "base_uri": "https://localhost:8080/",
          "height": 248
        },
        "id": "yaLs5a2RKoSU",
        "outputId": "b74a074e-c122-4b11-bb6e-b03466e897c7"
      },
      "source": [
        "import networkx as nx\n",
        "import matplotlib.pyplot as plt\n",
        "\n",
        "G = nx.Graph()\n",
        "G.add_node(1)\n",
        "G.add_node(1)\n",
        "G.add_node(2)\n",
        "\n",
        "G.add_edge(1, 2)\n",
        "\n",
        "plt.subplot(121)\n",
        "nx.draw(G, font_weight='bold')\n",
        "plt.show()"
      ],
      "execution_count": 35,
      "outputs": [
        {
          "output_type": "display_data",
          "data": {
            "image/png": "[encoded data removed]",
            "text/plain": [
              "<Figure size 432x288 with 1 Axes>"
            ]
          },
          "metadata": {
            "tags": []
          }
        }
      ]
    },
    {
      "cell_type": "code",
      "metadata": {
        "colab": {
          "base_uri": "https://localhost:8080/",
          "height": 1000
        },
        "id": "1GGB7E_rKoSV",
        "outputId": "d35d538b-f54c-404b-b9e5-44fd063e5ce3"
      },
      "source": [
        "files = Path(ZEEGUU_CORE_FOLDER).rglob(\"*.py\")\n",
        "\n",
        "G = nx.Graph()\n",
        "\n",
        "for file in files:\n",
        "    m = module(str(file))\n",
        "    if m not in G.nodes:\n",
        "        G.add_node(m)\n",
        "    \n",
        "    for each in imports(str(file)):\n",
        "        G.add_edge(m, each)\n",
        "        \n",
        "\n",
        "plt.figure(figsize=(20,20))\n",
        "nx.draw(G, font_weight='bold')\n",
        "plt.show()\n",
        "    \n",
        "    \n"
      ],
      "execution_count": 36,
      "outputs": [
        {
          "output_type": "display_data",
          "data": {
            "image/png": "[encoded data removed]",
            "text/plain": [
              "<Figure size 1440x1440 with 1 Axes>"
            ]
          },
          "metadata": {
            "tags": []
          }
        }
      ]
    }
  ]
}