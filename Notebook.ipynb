{
  "nbformat": 4,
  "nbformat_minor": 0,
  "metadata": {
    "colab": {
      "name": "Basic_Abstraction_Local_cleanup.ipynb",
      "provenance": [],
      "collapsed_sections": [],
      "toc_visible": true,
      "include_colab_link": true
    },
    "kernelspec": {
      "name": "python3",
      "display_name": "Python 3"
    },
    "language_info": {
      "name": "python"
    }
  },
  "cells": [
    {
      "cell_type": "markdown",
      "metadata": {
        "id": "view-in-github",
        "colab_type": "text"
      },
      "source": [
        "<a href=\"https://colab.research.google.com/github/magnujo/ModuleViewGenerator/blob/main/Notebook.ipynb\" target=\"_parent\"><img src=\"https://colab.research.google.com/assets/colab-badge.svg\" alt=\"Open In Colab\"/></a>"
      ]
    },
    {
      "cell_type": "code",
      "metadata": {
        "colab": {
          "base_uri": "https://localhost:8080/"
        },
        "id": "Iykfb-UYnqux",
        "outputId": "db197fb1-0749-4b4d-d334-2a6a0d464192"
      },
      "source": [
        "import sys\n",
        "!{sys.executable} -m pip install gitpython\n",
        "!{sys.executable} -m pip install pyvis"
      ],
      "execution_count": null,
      "outputs": [
        {
          "output_type": "stream",
          "text": [
            "Requirement already satisfied: gitpython in /usr/local/lib/python3.7/dist-packages (3.1.16)\n",
            "Requirement already satisfied: gitdb<5,>=4.0.1 in /usr/local/lib/python3.7/dist-packages (from gitpython) (4.0.7)\n",
            "Requirement already satisfied: typing-extensions>=3.7.4.0; python_version < \"3.8\" in /usr/local/lib/python3.7/dist-packages (from gitpython) (3.7.4.3)\n",
            "Requirement already satisfied: smmap<5,>=3.0.1 in /usr/local/lib/python3.7/dist-packages (from gitdb<5,>=4.0.1->gitpython) (4.0.0)\n",
            "Requirement already satisfied: pyvis in /usr/local/lib/python3.7/dist-packages (0.1.9)\n",
            "Requirement already satisfied: networkx>=1.11 in /usr/local/lib/python3.7/dist-packages (from pyvis) (2.5.1)\n",
            "Requirement already satisfied: jsonpickle>=1.4.1 in /usr/local/lib/python3.7/dist-packages (from pyvis) (2.0.0)\n",
            "Requirement already satisfied: jinja2>=2.9.6 in /usr/local/lib/python3.7/dist-packages (from pyvis) (2.11.3)\n",
            "Requirement already satisfied: ipython>=5.3.0 in /usr/local/lib/python3.7/dist-packages (from pyvis) (5.5.0)\n",
            "Requirement already satisfied: decorator<5,>=4.3 in /usr/local/lib/python3.7/dist-packages (from networkx>=1.11->pyvis) (4.4.2)\n",
            "Requirement already satisfied: importlib-metadata; python_version < \"3.8\" in /usr/local/lib/python3.7/dist-packages (from jsonpickle>=1.4.1->pyvis) (4.0.1)\n",
            "Requirement already satisfied: MarkupSafe>=0.23 in /usr/local/lib/python3.7/dist-packages (from jinja2>=2.9.6->pyvis) (1.1.1)\n",
            "Requirement already satisfied: traitlets>=4.2 in /usr/local/lib/python3.7/dist-packages (from ipython>=5.3.0->pyvis) (5.0.5)\n",
            "Requirement already satisfied: setuptools>=18.5 in /usr/local/lib/python3.7/dist-packages (from ipython>=5.3.0->pyvis) (56.1.0)\n",
            "Requirement already satisfied: pexpect; sys_platform != \"win32\" in /usr/local/lib/python3.7/dist-packages (from ipython>=5.3.0->pyvis) (4.8.0)\n",
            "Requirement already satisfied: simplegeneric>0.8 in /usr/local/lib/python3.7/dist-packages (from ipython>=5.3.0->pyvis) (0.8.1)\n",
            "Requirement already satisfied: pygments in /usr/local/lib/python3.7/dist-packages (from ipython>=5.3.0->pyvis) (2.6.1)\n",
            "Requirement already satisfied: pickleshare in /usr/local/lib/python3.7/dist-packages (from ipython>=5.3.0->pyvis) (0.7.5)\n",
            "Requirement already satisfied: prompt-toolkit<2.0.0,>=1.0.4 in /usr/local/lib/python3.7/dist-packages (from ipython>=5.3.0->pyvis) (1.0.18)\n",
            "Requirement already satisfied: typing-extensions>=3.6.4; python_version < \"3.8\" in /usr/local/lib/python3.7/dist-packages (from importlib-metadata; python_version < \"3.8\"->jsonpickle>=1.4.1->pyvis) (3.7.4.3)\n",
            "Requirement already satisfied: zipp>=0.5 in /usr/local/lib/python3.7/dist-packages (from importlib-metadata; python_version < \"3.8\"->jsonpickle>=1.4.1->pyvis) (3.4.1)\n",
            "Requirement already satisfied: ipython-genutils in /usr/local/lib/python3.7/dist-packages (from traitlets>=4.2->ipython>=5.3.0->pyvis) (0.2.0)\n",
            "Requirement already satisfied: ptyprocess>=0.5 in /usr/local/lib/python3.7/dist-packages (from pexpect; sys_platform != \"win32\"->ipython>=5.3.0->pyvis) (0.7.0)\n",
            "Requirement already satisfied: six>=1.9.0 in /usr/local/lib/python3.7/dist-packages (from prompt-toolkit<2.0.0,>=1.0.4->ipython>=5.3.0->pyvis) (1.15.0)\n",
            "Requirement already satisfied: wcwidth in /usr/local/lib/python3.7/dist-packages (from prompt-toolkit<2.0.0,>=1.0.4->ipython>=5.3.0->pyvis) (0.2.5)\n"
          ],
          "name": "stdout"
        }
      ]
    },
    {
      "cell_type": "code",
      "metadata": {
        "id": "hRVcoaLsoDYx"
      },
      "source": [
        "# all the needed imports\n",
        "import os\n",
        "import sys\n",
        "import re\n",
        "\n",
        "import pathlib\n",
        "from pathlib import Path\n",
        "import pprint\n",
        "\n",
        "import networkx as nx\n",
        "import matplotlib.pyplot as plt\n",
        "\n",
        "from git import Repo\n",
        "\n"
      ],
      "execution_count": null,
      "outputs": []
    },
    {
      "cell_type": "code",
      "metadata": {
        "colab": {
          "base_uri": "https://localhost:8080/"
        },
        "id": "0ruTtX88Tb-w",
        "outputId": "ca4b7c78-f1be-4691-976f-aa71a2a3c9d4"
      },
      "source": [
        "cwd = os.getcwd()\n",
        "print(cwd)\n"
      ],
      "execution_count": null,
      "outputs": [
        {
          "output_type": "stream",
          "text": [
            "/content\n"
          ],
          "name": "stdout"
        }
      ]
    },
    {
      "cell_type": "code",
      "metadata": {
        "id": "Ssb7D6FsoD6F"
      },
      "source": [
        "# NOTE: this must end in /\n",
        "CODE_ROOT_FOLDER=\"/content/Zeeguu-API/\"\n"
      ],
      "execution_count": null,
      "outputs": []
    },
    {
      "cell_type": "code",
      "metadata": {
        "id": "NeJVTDwroSxt"
      },
      "source": [
        "if not os.path.exists(CODE_ROOT_FOLDER):\n",
        "  Repo.clone_from(\"https://github.com/zeeguu-ecosystem/Zeeguu-API\", CODE_ROOT_FOLDER)\n"
      ],
      "execution_count": null,
      "outputs": []
    },
    {
      "cell_type": "code",
      "metadata": {
        "id": "8bMRIkgQoUsn"
      },
      "source": [
        "repo = Repo(CODE_ROOT_FOLDER)"
      ],
      "execution_count": null,
      "outputs": []
    },
    {
      "cell_type": "code",
      "metadata": {
        "id": "Njkjj4fzUV2E"
      },
      "source": [
        "#Function by Mircea Lungu\n",
        "def file_path(file_name):\n",
        "    return CODE_ROOT_FOLDER+file_name"
      ],
      "execution_count": null,
      "outputs": []
    },
    {
      "cell_type": "code",
      "metadata": {
        "id": "1C9goF1zob_U"
      },
      "source": [
        "#Function by Mircea Lungu\n",
        "def imports(file):\n",
        "\n",
        "    def extract_import_from_line(line):\n",
        "      x = re.search(\"^import (\\S+)\", line) \n",
        "      x = re.search(\"^from (\\S+)\", line) \n",
        "      return x.group(1)\n",
        "\n",
        "    lines = [line for line in open(file)]\n",
        "    \n",
        "    all_imports = []\n",
        "    for line in lines:\n",
        "        try:\n",
        "            all_imports.append(extract_import_from_line(line))\n",
        "        except:\n",
        "            continue\n",
        "\n",
        "    return all_imports\n",
        "\n",
        "assert \"sqlalchemy\" in imports(file_path('zeeguu_core/model/user.py'))"
      ],
      "execution_count": null,
      "outputs": []
    },
    {
      "cell_type": "code",
      "metadata": {
        "id": "zQkIMwpSpRS6"
      },
      "source": [
        "#Function by Mircea Lungu\n",
        "def module_from_file_path(folder_prefix, full_path):\n",
        "    # extracting a module from a file name\n",
        "    # e.g. ../zeeguu_core/model/user.py -> zeeguu_core.model.user\n",
        "    \n",
        "    file_name = full_path[len(folder_prefix):]\n",
        "    file_name = file_name.replace(\"/\",\".\")\n",
        "    file_name = file_name.replace(\".py\",\"\")\n",
        "    return file_name\n",
        "\n",
        "#Function by Mircea Lungu\n",
        "def module(full_path):\n",
        "    return module_from_file_path(CODE_ROOT_FOLDER, full_path)\n",
        "\n",
        "assert 'zeeguu_core.model.user' == module(file_path('zeeguu_core/model/user.py'))"
      ],
      "execution_count": null,
      "outputs": []
    },
    {
      "cell_type": "code",
      "metadata": {
        "id": "xvJ7Odd-prjA"
      },
      "source": [
        "#Function by Mircea Lungu\n",
        "def top_level_module(module_name, depth=1):\n",
        "    components = module_name.split(\".\")\n",
        "    return \".\".join(components[:depth])\n",
        "\n",
        "assert (top_level_module(\"zeeguu_core.model.util\") == \"zeeguu_core\")\n",
        "assert (top_level_module(\"zeeguu_core.model.util\", 2) == \"zeeguu_core.model\")"
      ],
      "execution_count": null,
      "outputs": []
    },
    {
      "cell_type": "code",
      "metadata": {
        "id": "jIeKHRquqn3x"
      },
      "source": [
        "#Function by Magnus Johannsen\n",
        "def draw_graph_with_labels(G, node_size=500, layout=\"none\", figsize=(15,15)):\n",
        "    plt.figure(figsize=figsize)\n",
        "    layouts = {\n",
        "        \"circular\": nx.draw_circular, \n",
        "        \"none\": nx.draw,\n",
        "        \"spring\": nx.draw_spring, \n",
        "        \"random\": nx.draw_random,\n",
        "        \"kamada_kawai\": nx.draw_kamada_kawai,\n",
        "        \"planar\": nx.draw_planar,\n",
        "        \"shell\": nx.draw_shell,\n",
        "        \"spectral\": nx.draw_spectral         \n",
        "        }\n",
        "    layouts[layout](G, with_labels=True, node_size=node_size)\n",
        "     \n",
        "    plt.show()"
      ],
      "execution_count": null,
      "outputs": []
    },
    {
      "cell_type": "code",
      "metadata": {
        "id": "CmnLDvdeYasy"
      },
      "source": [
        "#Function by Mircea Lungu\n",
        "def is_system_module(m):\n",
        "    return m.startswith('zeeguu') or m=='tools' or m==\"tests\" "
      ],
      "execution_count": null,
      "outputs": []
    },
    {
      "cell_type": "code",
      "metadata": {
        "id": "6HUDSDOe7V9O"
      },
      "source": [
        "#Function by Mircea Lungu\n",
        "def dependencies_graph(sourcepath):\n",
        "    files = Path(sourcepath).rglob(\"*.py\")\n",
        "    \n",
        "    G = nx.DiGraph()\n",
        "\n",
        "    for file in files:\n",
        "        m = module(str(file))\n",
        "      \n",
        "        if m not in G.nodes:\n",
        "            G.add_node(m)\n",
        "\n",
        "        for each in imports(str(file)):\n",
        "            G.add_edge(m, each)\n",
        "\n",
        "    return G"
      ],
      "execution_count": null,
      "outputs": []
    },
    {
      "cell_type": "code",
      "metadata": {
        "id": "JkM6giAGq_OR"
      },
      "source": [
        "#Function by Mircea Lungu\n",
        "def abstracted_to_level(G, level):\n",
        "    aG = nx.DiGraph()\n",
        "    for each in G.edges():\n",
        "        source = top_level_module(each[0], depth=level)\n",
        "        destination = top_level_module(each[1], depth=level)\n",
        "        if is_system_module(source) and is_system_module(destination):\n",
        "            aG.add_edge(source, destination)\n",
        "    return aG   "
      ],
      "execution_count": null,
      "outputs": []
    },
    {
      "cell_type": "code",
      "metadata": {
        "id": "_6fWjUwYEm8N"
      },
      "source": [
        "#Function by Magnus Johannsen\n",
        "def modules_to_numbers(G):\n",
        "  mods_to_nums = {}\n",
        "  nums_to_mods = {}\n",
        "  for count, node in enumerate(G.nodes()):\n",
        "    mods_to_nums[node] = count\n",
        "    nums_to_mods[count] = node\n",
        "  \n",
        "  return mods_to_nums, nums_to_mods\n"
      ],
      "execution_count": null,
      "outputs": []
    },
    {
      "cell_type": "code",
      "metadata": {
        "id": "3wh44xXmce6u",
        "colab": {
          "base_uri": "https://localhost:8080/"
        },
        "outputId": "79c16afd-f3b3-404d-d604-266266b327be"
      },
      "source": [
        "#Function by Mircea Lungu\n",
        "def LOC(file):\n",
        "    return sum([1 for line in open(file)])\n",
        "\n",
        "#Function by Mircea Lungu\n",
        "def module_size(m):\n",
        "    size = 0\n",
        "    files = Path(CODE_ROOT_FOLDER).rglob(\"*.py\")\n",
        "    for file in files:\n",
        "        module_name = module(str(file))\n",
        "        if module_name.startswith(m + '.'):\n",
        "            size += LOC(str(file))\n",
        "            \n",
        "    return size"
      ],
      "execution_count": null,
      "outputs": [
        {
          "output_type": "execute_result",
          "data": {
            "text/plain": [
              "10478"
            ]
          },
          "metadata": {
            "tags": []
          },
          "execution_count": 100
        }
      ]
    },
    {
      "cell_type": "code",
      "metadata": {
        "id": "DW427Sc5TWoA"
      },
      "source": [
        "#Function by Magnus Johannsen\n",
        "def draw_graph_with_numbers(G, converter, layout=\"none\", figsize=(15,15), weight_function=None):\n",
        "\n",
        "    plt.figure(figsize=figsize)\n",
        "    layouts = {\n",
        "        \"circular\": nx.draw_circular, \n",
        "        \"none\": nx.draw,\n",
        "        \"spring\": nx.draw_spring, \n",
        "        \"random\": nx.draw_random,\n",
        "        \"kamada_kawai\": nx.draw_kamada_kawai,\n",
        "        \"planar\": nx.draw_planar,\n",
        "        \"shell\": nx.draw_shell,\n",
        "        \"spectral\": nx.draw_spectral         \n",
        "        }\n",
        "    #nx.draw(G, pos, with_labels=True)\n",
        "    if weight_function is not None:\n",
        "      node_weights = [weight_function(converter[each]) for each in G.nodes()]   \n",
        "      layouts[layout](G, with_labels=True, node_size=node_weights)\n",
        "    else:\n",
        "      layouts[layout](G, with_labels=True)\n",
        "\n",
        "    plt.show()"
      ],
      "execution_count": null,
      "outputs": []
    },
    {
      "cell_type": "code",
      "metadata": {
        "id": "ZfCpjArTlb1X"
      },
      "source": [
        "#Function by Magnus Johannsen\n",
        "def draw_graph_with_modules(G, layout=\"none\", figsize=(15,15), weight_function=None):\n",
        "\n",
        "    plt.figure(figsize=figsize)\n",
        "    layouts = {\n",
        "        \"circular\": nx.draw_circular, \n",
        "        \"none\": nx.draw,\n",
        "        \"spring\": nx.draw_spring, \n",
        "        \"random\": nx.draw_random,\n",
        "        \"kamada_kawai\": nx.draw_kamada_kawai,\n",
        "        \"planar\": nx.draw_planar,\n",
        "        \"shell\": nx.draw_shell,\n",
        "        \"spectral\": nx.draw_spectral         \n",
        "        }\n",
        "    if weight_function is not None:\n",
        "      node_weights = [weight_function(each) for each in G.nodes()]   \n",
        "      layouts[layout](G, with_labels=True, node_size=node_weights)\n",
        "    else:\n",
        "      layouts[layout](G, with_labels=True)\n",
        "\n",
        "    plt.show()"
      ],
      "execution_count": null,
      "outputs": []
    },
    {
      "cell_type": "code",
      "metadata": {
        "id": "N00JnS21UqBT"
      },
      "source": [
        "#Function by Magnus Johannsen\n",
        "def get_module_view(sourcepath, graph_layout, graph_size, depth, labeltype=\"numbers\", weight_function=None):\n",
        "  directed = dependencies_graph(sourcepath)\n",
        "  directedAbstracted = abstracted_to_level(directed,depth)\n",
        "  if labeltype == \"numbers\":\n",
        "    m_to_n, n_to_m = modules_to_numbers(directedAbstracted)\n",
        "    pp = pprint.PrettyPrinter(indent=4)\n",
        "    pp.pprint(n_to_m)\n",
        "    relabelGraph = nx.relabel.relabel_nodes(directedAbstracted, m_to_n)\n",
        "    draw_graph_with_numbers(relabelGraph, n_to_m, layout=graph_layout, figsize=graph_size, weight_function=weight_function)\n",
        "  else:\n",
        "    draw_graph_with_modules(directedAbstracted, layout=graph_layout, figsize=graph_size, weight_function=weight_function)\n"
      ],
      "execution_count": null,
      "outputs": []
    }
  ]
}